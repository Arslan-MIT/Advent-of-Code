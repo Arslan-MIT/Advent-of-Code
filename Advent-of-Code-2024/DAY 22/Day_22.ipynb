{
  "nbformat": 4,
  "nbformat_minor": 0,
  "metadata": {
    "colab": {
      "provenance": []
    },
    "kernelspec": {
      "name": "python3",
      "display_name": "Python 3"
    },
    "language_info": {
      "name": "python"
    }
  },
  "cells": [
    {
      "cell_type": "markdown",
      "source": [
        "\n",
        "\n",
        "*   Code of Event\n",
        "*   **Day 22**\n",
        "\n",
        "\n"
      ],
      "metadata": {
        "id": "-em2WkjYSO9M"
      }
    },
    {
      "cell_type": "code",
      "execution_count": 1,
      "metadata": {
        "colab": {
          "base_uri": "https://localhost:8080/",
          "height": 49
        },
        "id": "rAF6t9y-PqMb",
        "outputId": "dbdab7e7-0e0a-496e-b4e4-9f75fa7f4021"
      },
      "outputs": [
        {
          "output_type": "display_data",
          "data": {
            "text/plain": [
              "\u001b[1;36m20401393616\u001b[0m\n"
            ],
            "text/html": [
              "<pre style=\"white-space:pre;overflow-x:auto;line-height:normal;font-family:Menlo,'DejaVu Sans Mono',consolas,'Courier New',monospace\"><span style=\"color: #008080; text-decoration-color: #008080; font-weight: bold\">20401393616</span>\n",
              "</pre>\n"
            ]
          },
          "metadata": {}
        },
        {
          "output_type": "display_data",
          "data": {
            "text/plain": [
              "\u001b[1;36m2272\u001b[0m\n"
            ],
            "text/html": [
              "<pre style=\"white-space:pre;overflow-x:auto;line-height:normal;font-family:Menlo,'DejaVu Sans Mono',consolas,'Courier New',monospace\"><span style=\"color: #008080; text-decoration-color: #008080; font-weight: bold\">2272</span>\n",
              "</pre>\n"
            ]
          },
          "metadata": {}
        }
      ],
      "source": [
        "import numpy as np\n",
        "from rich import print\n",
        "\n",
        "def read_input(file_path):\n",
        "    with open(file_path, 'r') as file:\n",
        "        return [int(line.strip()) for line in file]\n",
        "\n",
        "input_file = \"/content/day22.txt\"\n",
        "ints = read_input(input_file)\n",
        "\n",
        "p1 = 0\n",
        "p2 = {}\n",
        "for i in ints:\n",
        "    seq = [i]\n",
        "    for _ in range(2000):\n",
        "        i = (i ^ (i * 64)) % 16777216\n",
        "        i = (i ^ (i // 32)) % 16777216\n",
        "        i = (i ^ (i * 2048)) % 16777216\n",
        "        seq.append(i)\n",
        "    p1 += i\n",
        "    arr = np.array(seq)\n",
        "    diffs = np.diff(arr % 10)\n",
        "    sigs = [tuple(row) for row in np.c_[diffs[:-3], diffs[1:-2], diffs[2:-1], diffs[3:]].tolist()]\n",
        "    d = dict(zip(sigs[::-1], seq[::-1]))\n",
        "    for sig, num in d.items():\n",
        "        p2[sig] = p2.get(sig, 0) + num % 10\n",
        "print(p1)\n",
        "print(max(p2.values()))"
      ]
    }
  ]
}